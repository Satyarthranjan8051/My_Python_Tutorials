{
  "nbformat": 4,
  "nbformat_minor": 0,
  "metadata": {
    "colab": {
      "provenance": [],
      "authorship_tag": "ABX9TyPhIyJRX2UgQPkDQkatLY9V",
      "include_colab_link": true
    },
    "kernelspec": {
      "name": "python3",
      "display_name": "Python 3"
    },
    "language_info": {
      "name": "python"
    }
  },
  "cells": [
    {
      "cell_type": "markdown",
      "metadata": {
        "id": "view-in-github",
        "colab_type": "text"
      },
      "source": [
        "<a href=\"https://colab.research.google.com/github/Satyarthranjan8051/Numeric-Method-and-Optimization-Using-Python/blob/main/experiment_1_4.ipynb\" target=\"_parent\"><img src=\"https://colab.research.google.com/assets/colab-badge.svg\" alt=\"Open In Colab\"/></a>"
      ]
    },
    {
      "cell_type": "code",
      "execution_count": null,
      "metadata": {
        "colab": {
          "base_uri": "https://localhost:8080/"
        },
        "id": "6rZOUOuctO0N",
        "outputId": "9c32476a-d6c6-4711-d581-c86dad250f8d"
      },
      "outputs": [
        {
          "output_type": "stream",
          "name": "stdout",
          "text": [
            "------------Secant Root Finding Algorithms------------------------\n",
            "NAME: Satyarth Ranjan; UID: 21BCS8388\n",
            "Root is approximately: 1.4142135626888697\n"
          ]
        }
      ],
      "source": [
        "print(\"------------Secant Root Finding Algorithms------------------------\")\n",
        "print(\"NAME: Satyarth Ranjan; UID: 21BCS8388\")\n",
        "def secant_method(f, x0, x1, tol=1e-5, max_iter=100):\n",
        "    for i in range(max_iter):\n",
        "        f_x0 = f(x0)\n",
        "        f_x1 = f(x1)\n",
        "        x_new = x1 - f_x1 * (x1 - x0) / (f_x1 - f_x0)\n",
        "        if abs(x_new - x1) < tol:\n",
        "            return x_new\n",
        "\n",
        "        # Update the guesses\n",
        "        x0, x1 = x1, x_new\n",
        "\n",
        "    raise ValueError(f\"Root not found within {max_iter} iterations.\")\n",
        "\n",
        "# Example usage:\n",
        "if __name__ == \"__main__\":\n",
        "    # Define the function for which to find the root\n",
        "    def f(x):\n",
        "        return x**2 - 2\n",
        "    # Initial guesses\n",
        "    x0 = 0\n",
        "    x1 = 2\n",
        "    # Find the root\n",
        "    root = secant_method(f, x0, x1)\n",
        "    print(\"Root is approximately:\", root)\n"
      ]
    }
  ]
}