{
  "nbformat": 4,
  "nbformat_minor": 0,
  "metadata": {
    "colab": {
      "provenance": [],
      "authorship_tag": "ABX9TyNrlrKR4Fr4on32n0EZIEVS",
      "include_colab_link": true
    },
    "kernelspec": {
      "name": "python3",
      "display_name": "Python 3"
    },
    "language_info": {
      "name": "python"
    }
  },
  "cells": [
    {
      "cell_type": "markdown",
      "metadata": {
        "id": "view-in-github",
        "colab_type": "text"
      },
      "source": [
        "<a href=\"https://colab.research.google.com/github/Satyarthranjan8051/Numeric-Method-and-Optimization-Using-Python/blob/main/experiment_1_3_numeric_python.ipynb\" target=\"_parent\"><img src=\"https://colab.research.google.com/assets/colab-badge.svg\" alt=\"Open In Colab\"/></a>"
      ]
    },
    {
      "cell_type": "code",
      "execution_count": null,
      "metadata": {
        "colab": {
          "base_uri": "https://localhost:8080/"
        },
        "id": "BzeK69c_qDH4",
        "outputId": "d2e084a4-6bd5-471c-cd17-2f8c122d4433"
      },
      "outputs": [
        {
          "output_type": "stream",
          "name": "stdout",
          "text": [
            "Implementing Root Finding Algorithms(Bisection Method, Newton-Raphson Method) in Python\n",
            "------------------------------------------------------------------------------------------\n",
            "Name: Satyarth Ranjan; UID:21BCS8388\n",
            "------------------------------------------------------------------------------------------\n",
            "Root Finding Algorithms(Bisection Method):-\n",
            "Bisection Method Root: 2.000000238418579\n",
            "------------------------------------------------------------------------------------------\n",
            "Root Finding Algorithms(Newton-Raphson Method):-\n",
            "Newton-Raphson Method Root: -0.7650845376740406\n",
            "--------------------------Thanks You !---------------------------------------------------\n"
          ]
        }
      ],
      "source": [
        "print(\"Implementing Root Finding Algorithms(Bisection Method, Newton-Raphson Method) in Python\")\n",
        "print(\"------------------------------------------------------------------------------------------\")\n",
        "print(\"Name: Satyarth Ranjan; UID:21BCS8388\")\n",
        "print(\"------------------------------------------------------------------------------------------\")\n",
        "print(\"Root Finding Algorithms(Bisection Method):-\")\n",
        "def bisection_method(func, a, b, tol=1e-6, max_iter=100):\n",
        "    if func(a) * func(b) > 0:\n",
        "        raise ValueError(\"The function values at the interval endpoints must have opposite signs.\")\n",
        "\n",
        "    iteration = 0\n",
        "\n",
        "    while (b - a) / 2 > tol and iteration < max_iter:\n",
        "        c = (a + b) / 2\n",
        "        if func(c) == 0:\n",
        "            return c  # Found exact root\n",
        "        elif func(c) * func(a) < 0:\n",
        "            b = c\n",
        "        else:\n",
        "            a = c\n",
        "        iteration += 1\n",
        "\n",
        "    return (a + b) / 2\n",
        "\n",
        "# Example usage:\n",
        "def quadratic_function(x):\n",
        "    return x**2 - 4\n",
        "\n",
        "root = bisection_method(quadratic_function, 0, 3)\n",
        "print(\"Bisection Method Root:\", root)\n",
        "print(\"------------------------------------------------------------------------------------------\")\n",
        "print(\"Root Finding Algorithms(Newton-Raphson Method):-\")\n",
        "def newton_raphson_method(func, func_derivative, initial_guess, tol=1e-6, max_iter=100):\n",
        "    x = initial_guess\n",
        "    iteration = 0\n",
        "\n",
        "    while abs(func(x)) > tol and iteration < max_iter:\n",
        "        x = x - func(x) / func_derivative(x)\n",
        "        iteration += 1\n",
        "\n",
        "    return x\n",
        "\n",
        "# Example usage:\n",
        "def cubic_function(x):\n",
        "    return x*3 - 6*x*2 + 11*x - 6\n",
        "\n",
        "def cubic_derivative(x):\n",
        "    return 3*x**2 - 12*x + 11\n",
        "\n",
        "initial_guess = 1.5\n",
        "root_newton = newton_raphson_method(cubic_function, cubic_derivative, initial_guess)\n",
        "print(\"Newton-Raphson Method Root:\", root_newton)\n",
        "print(\"--------------------------Thanks You !---------------------------------------------------\")"
      ]
    }
  ]
}